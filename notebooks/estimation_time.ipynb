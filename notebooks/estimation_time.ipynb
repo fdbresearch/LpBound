{
 "cells": [
  {
   "cell_type": "code",
   "execution_count": 2,
   "metadata": {},
   "outputs": [],
   "source": [
    "import pandas as pd\n",
    "import os"
   ]
  },
  {
   "cell_type": "code",
   "execution_count": 2,
   "metadata": {},
   "outputs": [],
   "source": [
    "dir_runtimes = \"../results/estimation_time/raw_results\"\n",
    "files = os.listdir(dir_runtimes)\n",
    "files = [f for f in files if f.find(\"runtimes_\") != -1]"
   ]
  },
  {
   "cell_type": "code",
   "execution_count": 3,
   "metadata": {},
   "outputs": [],
   "source": [
    "df_sequential = pd.DataFrame()\n",
    "df_parallel = pd.DataFrame()    \n",
    "\n",
    "for f in files:\n",
    "    benchmark = f.split(\"_\")[1]\n",
    "    \n",
    "    df_temp = pd.read_csv(os.path.join(dir_runtimes, f))\n",
    "    df_temp[\"benchmark\"] = benchmark\n",
    "    if f.find(\"parallel\") != -1:\n",
    "        df_parallel = pd.concat([df_parallel, df_temp])\n",
    "    else:\n",
    "        df_sequential = pd.concat([df_sequential, df_temp])"
   ]
  },
  {
   "cell_type": "markdown",
   "metadata": {},
   "source": [
    "# Sequential execution of subqueries"
   ]
  },
  {
   "cell_type": "code",
   "execution_count": 4,
   "metadata": {},
   "outputs": [
    {
     "data": {
      "text/html": [
       "<div>\n",
       "<style scoped>\n",
       "    .dataframe tbody tr th:only-of-type {\n",
       "        vertical-align: middle;\n",
       "    }\n",
       "\n",
       "    .dataframe tbody tr th {\n",
       "        vertical-align: top;\n",
       "    }\n",
       "\n",
       "    .dataframe thead th {\n",
       "        text-align: right;\n",
       "    }\n",
       "</style>\n",
       "<table border=\"1\" class=\"dataframe\">\n",
       "  <thead>\n",
       "    <tr style=\"text-align: right;\">\n",
       "      <th></th>\n",
       "      <th>benchmark</th>\n",
       "      <th>runtime_mean_(ms)</th>\n",
       "    </tr>\n",
       "  </thead>\n",
       "  <tbody>\n",
       "    <tr>\n",
       "      <th>0</th>\n",
       "      <td>jobjoin</td>\n",
       "      <td>0.643890</td>\n",
       "    </tr>\n",
       "    <tr>\n",
       "      <th>1</th>\n",
       "      <td>joblight</td>\n",
       "      <td>0.354344</td>\n",
       "    </tr>\n",
       "    <tr>\n",
       "      <th>2</th>\n",
       "      <td>stats</td>\n",
       "      <td>0.523572</td>\n",
       "    </tr>\n",
       "  </tbody>\n",
       "</table>\n",
       "</div>"
      ],
      "text/plain": [
       "  benchmark  runtime_mean_(ms)\n",
       "0   jobjoin           0.643890\n",
       "1  joblight           0.354344\n",
       "2     stats           0.523572"
      ]
     },
     "execution_count": 4,
     "metadata": {},
     "output_type": "execute_result"
    }
   ],
   "source": [
    "df_seq_res = df_sequential.groupby([\"benchmark\", \"query_id\"])[\"runtime\"].mean().reset_index().groupby(\"benchmark\")[\"runtime\"].mean().reset_index()\n",
    "df_seq_res[\"runtime\"] = df_seq_res[\"runtime\"] / 1_000_000\n",
    "\n",
    "df_seq_res.rename(columns={\"runtime\": \"runtime_mean_(ms)\"}, inplace=True)\n",
    "\n",
    "df_seq_res"
   ]
  },
  {
   "cell_type": "code",
   "execution_count": 5,
   "metadata": {},
   "outputs": [
    {
     "data": {
      "text/plain": [
       "'\\nbenchmark\\t    runtime_mean_(ms)\\n0\\tjobjoin\\t    0.704561\\n1\\tjoblight\\t0.638083\\n2\\tstats\\t    0.622669\\n\\n\\n\\tbenchmark\\truntime_mean_(ms)\\n0\\tjobjoin\\t    0.625374\\n1\\tjoblight\\t0.457723\\n2\\tstats\\t    0.471875\\n\\n'"
      ]
     },
     "execution_count": 5,
     "metadata": {},
     "output_type": "execute_result"
    }
   ],
   "source": [
    "\"\"\"\n",
    "benchmark\t    runtime_mean_(ms)\n",
    "0\tjobjoin\t    0.704561\n",
    "1\tjoblight\t0.638083\n",
    "2\tstats\t    0.622669\n",
    "\n",
    "\n",
    "\tbenchmark\truntime_mean_(ms)\n",
    "0\tjobjoin\t    0.625374\n",
    "1\tjoblight\t0.457723\n",
    "2\tstats\t    0.471875\n",
    "\n",
    "\"\"\""
   ]
  },
  {
   "cell_type": "markdown",
   "metadata": {},
   "source": [
    "# Parallel execution of all subqueries per benchmark query"
   ]
  },
  {
   "cell_type": "code",
   "execution_count": 6,
   "metadata": {},
   "outputs": [
    {
     "data": {
      "text/html": [
       "<div>\n",
       "<style scoped>\n",
       "    .dataframe tbody tr th:only-of-type {\n",
       "        vertical-align: middle;\n",
       "    }\n",
       "\n",
       "    .dataframe tbody tr th {\n",
       "        vertical-align: top;\n",
       "    }\n",
       "\n",
       "    .dataframe thead th {\n",
       "        text-align: right;\n",
       "    }\n",
       "</style>\n",
       "<table border=\"1\" class=\"dataframe\">\n",
       "  <thead>\n",
       "    <tr style=\"text-align: right;\">\n",
       "      <th></th>\n",
       "      <th>benchmark</th>\n",
       "      <th>total_time_(ms)</th>\n",
       "    </tr>\n",
       "  </thead>\n",
       "  <tbody>\n",
       "    <tr>\n",
       "      <th>0</th>\n",
       "      <td>jobjoin</td>\n",
       "      <td>7.292982</td>\n",
       "    </tr>\n",
       "    <tr>\n",
       "      <th>1</th>\n",
       "      <td>joblight</td>\n",
       "      <td>0.354515</td>\n",
       "    </tr>\n",
       "    <tr>\n",
       "      <th>2</th>\n",
       "      <td>stats</td>\n",
       "      <td>0.577318</td>\n",
       "    </tr>\n",
       "  </tbody>\n",
       "</table>\n",
       "</div>"
      ],
      "text/plain": [
       "  benchmark  total_time_(ms)\n",
       "0   jobjoin         7.292982\n",
       "1  joblight         0.354515\n",
       "2     stats         0.577318"
      ]
     },
     "execution_count": 6,
     "metadata": {},
     "output_type": "execute_result"
    }
   ],
   "source": [
    "df_par_res = df_parallel.groupby([\"benchmark\"])[\"total_time\"].mean().reset_index()\n",
    "df_par_res[\"total_time\"] = df_par_res[\"total_time\"] / 1_000_000\n",
    "df_par_res.rename(columns={\"total_time\": \"total_time_(ms)\"}, inplace=True)\n",
    "df_par_res"
   ]
  },
  {
   "cell_type": "code",
   "execution_count": 10,
   "metadata": {},
   "outputs": [
    {
     "data": {
      "text/plain": [
       "' \\n\\tbenchmark\\ttotal_time_(ms)\\n0\\tjobjoin\\t    18.862765\\n1\\tjoblight\\t0.814146\\n2\\tstats\\t    1.311401\\n\\n\\n\\nbenchmark\\t\\truntime_mean_(ms)\\n0\\tjobjoin\\t\\t7.660495\\n1\\tjoblight\\t0.340988\\n2\\tstats\\t\\t0.754967\\n\\n\\n'"
      ]
     },
     "execution_count": 10,
     "metadata": {},
     "output_type": "execute_result"
    }
   ],
   "source": [
    "\"\"\" \n",
    "\tbenchmark\ttotal_time_(ms)\n",
    "0\tjobjoin\t    18.862765\n",
    "1\tjoblight\t0.814146\n",
    "2\tstats\t    1.311401\n",
    "\n",
    "\n",
    "\n",
    "benchmark\t\truntime_mean_(ms)\n",
    "0\tjobjoin\t\t7.660495\n",
    "1\tjoblight\t0.340988\n",
    "2\tstats\t\t0.754967\n",
    "\n",
    "\n",
    "\"\"\""
   ]
  }
 ],
 "metadata": {
  "kernelspec": {
   "display_name": ".venv",
   "language": "python",
   "name": "python3"
  },
  "language_info": {
   "codemirror_mode": {
    "name": "ipython",
    "version": 3
   },
   "file_extension": ".py",
   "mimetype": "text/x-python",
   "name": "python",
   "nbconvert_exporter": "python",
   "pygments_lexer": "ipython3",
   "version": "3.11.11"
  }
 },
 "nbformat": 4,
 "nbformat_minor": 2
}
