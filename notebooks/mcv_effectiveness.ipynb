{
 "cells": [
  {
   "cell_type": "code",
   "execution_count": 116,
   "metadata": {},
   "outputs": [],
   "source": [
    "import matplotlib.pyplot as plt\n",
    "import seaborn as sns\n",
    "import pandas as pd\n",
    "import numpy as np\n",
    "from matplotlib.backends.backend_pdf import PdfPages\n",
    "# plt.rcParams['text.usetex'] = True\n",
    "# plt.rcParams['text.latex.preamble'] = [r'\\usepackage{amsmath}'] #for \\text command\n"
   ]
  },
  {
   "cell_type": "code",
   "execution_count": 117,
   "metadata": {},
   "outputs": [
    {
     "name": "stdout",
     "output_type": "stream",
     "text": [
      "   QueryID  lpbound_Estimate  number_mcvs  truecardinality_Estimate  error_lp  \\\n",
      "0        1       7017.850235           15                       715  9.815175   \n",
      "0        1       7017.850235           20                       715  9.815175   \n",
      "0        1       7017.850235           50                       715  9.815175   \n",
      "0        1       7017.850235          100                       715  9.815175   \n",
      "0        1       7017.850235          200                       715  9.815175   \n",
      "0        1       7017.850235          400                       715  9.815175   \n",
      "0        1       7017.850235          600                       715  9.815175   \n",
      "0        1       7017.850235          800                       715  9.815175   \n",
      "0        1       7017.850235         1000                       715  9.815175   \n",
      "0        1       7017.850235         2000                       715  9.815175   \n",
      "0        1       7017.850235         3000                       715  9.815175   \n",
      "0        1       7017.850235         4000                       715  9.815175   \n",
      "0        1       7017.850235         5000                       715  9.815175   \n",
      "\n",
      "   min_error_query  relative_error  \n",
      "0         9.815175             1.0  \n",
      "0         9.815175             1.0  \n",
      "0         9.815175             1.0  \n",
      "0         9.815175             1.0  \n",
      "0         9.815175             1.0  \n",
      "0         9.815175             1.0  \n",
      "0         9.815175             1.0  \n",
      "0         9.815175             1.0  \n",
      "0         9.815175             1.0  \n",
      "0         9.815175             1.0  \n",
      "0         9.815175             1.0  \n",
      "0         9.815175             1.0  \n",
      "0         9.815175             1.0  \n"
     ]
    }
   ],
   "source": [
    "# construct the dataframe\n",
    "# there are many frames, one for each mcv number\n",
    "# stack them together\n",
    "# the columns are:\n",
    "# query\testimated_cardinality_lp\terror_lp\testimated_cardinality_duckdb\terror_duckdb\tnumber_mcvs\tmin_error_query\trelative_error\n",
    "\n",
    "mcv_numbers = [15, 20, 50, 100, 200, 400, 600, 800, 1000, 2000, 3000, 4000, 5000]\n",
    "\n",
    "def construct_df(benchmark):\n",
    "\n",
    "    true_cardinality = pd.read_csv(f\"../results/accuracy_acyclic/{benchmark}/truecardinality_{benchmark}_full_estimations.csv\")\n",
    "\n",
    "\n",
    "    df_data = pd.DataFrame()\n",
    "    for mcv_number in mcv_numbers:\n",
    "        df = pd.read_csv(f\"../results/mcv_effectiveness/{benchmark}/lpbound_{benchmark}_mcv_{mcv_number}.csv\")\n",
    "        df[\"number_mcvs\"] = mcv_number\n",
    "        df[\"truecardinality_Estimate\"] = true_cardinality[\"truecardinality_Estimate\"]\n",
    "        df[\"error_lp\"] = df[\"lpbound_Estimate\"] / df[\"truecardinality_Estimate\"]\n",
    "\n",
    "\n",
    "        df_data = pd.concat([df_data, df])\n",
    "\n",
    "    df_data[\"min_error_query\"] = df_data.groupby(\"QueryID\")[\"error_lp\"].transform(\"min\")\n",
    "    df_data[\"relative_error\"] = df_data[\"error_lp\"] / df_data[\"min_error_query\"]\n",
    "\n",
    "    return df_data\n",
    "\n",
    "\n",
    "df_data = construct_df(\"joblight\")\n",
    "print(df_data[df_data[\"QueryID\"] == 1])"
   ]
  },
  {
   "cell_type": "code",
   "execution_count": 118,
   "metadata": {},
   "outputs": [],
   "source": [
    "# Assuming df_data is already defined\n",
    "# If not, you would need to load or create it here\n",
    "\n",
    "df_data = construct_df(\"joblight\")\n",
    " \n",
    "# Function to create and save the plot\n",
    "def plot_mcv_sensitivity(df_data, multiplier=2, y_lim=3.5):\n",
    "    # Calculate mean and standard deviation for each number of MCVs\n",
    "    df_stats = df_data.groupby(\"number_mcvs\")[\"relative_error\"].agg([\"mean\", \"std\"]).reset_index()\n",
    "\n",
    "    # Set up the matplotlib figure\n",
    "    fig, ax = plt.subplots(figsize=(5, 2.5))\n",
    " \n",
    "    # Plot mean line\n",
    "    sns.lineplot(data=df_stats, x=\"number_mcvs\", y=\"mean\", ax=ax, color='blue')\n",
    " \n",
    "    # Add light blue shaded area for standard deviation\n",
    "    ax.fill_between(df_stats[\"number_mcvs\"],\n",
    "                    df_stats[\"mean\"] - multiplier * df_stats[\"std\"],\n",
    "                    df_stats[\"mean\"] + multiplier * df_stats[\"std\"],\n",
    "                    alpha=0.6, color='lightblue')\n",
    " \n",
    "    # Set plot labels\n",
    "    # plt.ylabel(r\"$\\frac{\\text{Error\\ for \\#\\ MCVs = x}}{\\text{Error\\ for \\#\\ MCVs = 5000}}$\", fontsize=16)\n",
    "    plt.ylabel(r\"$\\frac{\\mathrm{Error\\ for\\ \\#\\ MCVs = x}}{\\mathrm{Error\\ for \\#\\ MCVs = 5000}}$\", fontsize=16)\n",
    "\n",
    "    # plt.ylabel(\"error\", fontsize=16)\n",
    "    plt.xlabel(r\"Number $x$ of MCVs\")\n",
    "    ax.set_ylim(0.8, y_lim)\n",
    "    ax.yaxis.set_major_formatter(plt.FuncFormatter(lambda x, _: '{:.1f}'.format(x)))\n",
    "    \n",
    "    # Adjust layout\n",
    "    plt.tight_layout()\n",
    " \n",
    "    # Save as PDF\n",
    "    pdf_filename = f\"plots/mcv_sensitivity.pdf\"\n",
    "    with PdfPages(pdf_filename) as pdf:\n",
    "        pdf.savefig(fig)\n",
    " \n",
    "    # Save as EPS (high resolution)\n",
    "    # eps_filename = f\"mcv_sensitivity.eps\"\n",
    "    # plt.savefig(eps_filename, format=\"eps\", dpi=1200, bbox_inches=\"tight\")\n",
    " \n",
    "    plt.show()\n",
    " \n",
    "    # print(f\"Plot saved as {pdf_filename}, and {eps_filename}\")\n",
    " \n",
    "# Example usage:\n",
    "# Adjust the multiplier value to control the width of the error bands\n",
    "# plot_mcv_sensitivity(df_data, multiplier=0.2)\n",
    " \n",
    "# You can easily generate plots with different error band widths:\n",
    "# plot_mcv_sensitivity(df_data, multiplier=1)\n",
    "# plot_mcv_sensitivity(df_data, multiplier=3)"
   ]
  },
  {
   "cell_type": "code",
   "execution_count": 119,
   "metadata": {},
   "outputs": [
    {
     "data": {
      "image/png": "[encoded data removed]",
      "text/plain": [
       "<Figure size 500x250 with 1 Axes>"
      ]
     },
     "metadata": {},
     "output_type": "display_data"
    }
   ],
   "source": [
    "df_data = construct_df(\"joblight\")\n",
    "plot_mcv_sensitivity(df_data, multiplier=0.24, y_lim=3.5)"
   ]
  },
  {
   "cell_type": "code",
   "execution_count": null,
   "metadata": {},
   "outputs": [],
   "source": []
  }
 ],
 "metadata": {
  "kernelspec": {
   "display_name": "Python 3",
   "language": "python",
   "name": "python3"
  },
  "language_info": {
   "codemirror_mode": {
    "name": "ipython",
    "version": 3
   },
   "file_extension": ".py",
   "mimetype": "text/x-python",
   "name": "python",
   "nbconvert_exporter": "python",
   "pygments_lexer": "ipython3",
   "version": "3.11.10"
  }
 },
 "nbformat": 4,
 "nbformat_minor": 2
}
