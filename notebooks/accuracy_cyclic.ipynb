{
 "cells": [
  {
   "cell_type": "code",
   "execution_count": 1,
   "metadata": {},
   "outputs": [],
   "source": [
    "import pandas as pd\n",
    "import seaborn as sns\n",
    "import matplotlib.pyplot as plt\n",
    "import pickle\n",
    "import os\n",
    "import sys\n",
    "import numpy as np\n",
    "import matplotlib.colors as mcolors\n",
    "import colorsys"
   ]
  },
  {
   "cell_type": "code",
   "execution_count": 2,
   "metadata": {},
   "outputs": [],
   "source": [
    "def get_number_of_egdes(path_to_file: str) -> int:\n",
    "    with open(path_to_file, 'r') as f:\n",
    "        lines = f.readlines()\n",
    "        \n",
    "        for l in lines:\n",
    "            if l.startswith('FROM'):\n",
    "                edges = l.replace('FROM', '')   \n",
    "                edges = edges.strip()\n",
    "                edges = edges.split(\",\")\n",
    "                edges = [e.strip() for e in edges if e.find(\"edge\") > -1]\n",
    "                edges = [int(e.split(\" \")[1].replace(\"e\", \"\")) for e in edges]\n",
    "                \n",
    "                return max(edges) + 1\n",
    "                "
   ]
  },
  {
   "cell_type": "markdown",
   "metadata": {},
   "source": [
    "# Loading data"
   ]
  },
  {
   "cell_type": "code",
   "execution_count": 3,
   "metadata": {},
   "outputs": [
    {
     "data": {
      "text/html": [
       "<div>\n",
       "<style scoped>\n",
       "    .dataframe tbody tr th:only-of-type {\n",
       "        vertical-align: middle;\n",
       "    }\n",
       "\n",
       "    .dataframe tbody tr th {\n",
       "        vertical-align: top;\n",
       "    }\n",
       "\n",
       "    .dataframe thead th {\n",
       "        text-align: right;\n",
       "    }\n",
       "</style>\n",
       "<table border=\"1\" class=\"dataframe\">\n",
       "  <thead>\n",
       "    <tr style=\"text-align: right;\">\n",
       "      <th></th>\n",
       "      <th>query</th>\n",
       "      <th>edges</th>\n",
       "    </tr>\n",
       "  </thead>\n",
       "  <tbody>\n",
       "    <tr>\n",
       "      <th>0</th>\n",
       "      <td>dblp_query_dense_8_1</td>\n",
       "      <td>15</td>\n",
       "    </tr>\n",
       "    <tr>\n",
       "      <th>1</th>\n",
       "      <td>dblp_query_dense_8_10</td>\n",
       "      <td>14</td>\n",
       "    </tr>\n",
       "  </tbody>\n",
       "</table>\n",
       "</div>"
      ],
      "text/plain": [
       "                   query  edges\n",
       "0   dblp_query_dense_8_1     15\n",
       "1  dblp_query_dense_8_10     14"
      ]
     },
     "execution_count": 3,
     "metadata": {},
     "output_type": "execute_result"
    }
   ],
   "source": [
    "# counting number of edge relation copies in the queries\n",
    "path_director = \"../benchmarks/workloads/subgraph_matching/dblp\"\n",
    "query_files = os.listdir(path_director)\n",
    "query_files = [f for f in query_files if f.endswith(\".sql\")]\n",
    "query_files = [f for f in query_files if f.find(\"_8_\") != -1]\n",
    "dict_edges = {}\n",
    "\n",
    "for q in query_files:\n",
    "    number_edges = get_number_of_egdes(os.path.join(path_director, q))\n",
    "    dict_edges[q] = number_edges\n",
    "    \n",
    "df_edges = pd.DataFrame(dict_edges.items(), columns=[\"query\", \"edges\"])\n",
    "df_edges[\"query\"] = df_edges[\"query\"].str.replace(\".sql\", \"\")\n",
    "df_edges.head(2)"
   ]
  },
  {
   "cell_type": "code",
   "execution_count": 4,
   "metadata": {},
   "outputs": [
    {
     "name": "stdout",
     "output_type": "stream",
     "text": [
      "                    query  DuckDB_estimate\n",
      "0  dblp_query_dense_8_100          9604420\n",
      "                  query  LpBoubd_estimate\n",
      "0  dblp_query_dense_8_1      1.389949e+09\n",
      "                    query  Postgres_estimate\n",
      "0  dblp_query_dense_8_100                  1\n",
      "                   query  DBX_estimate\n",
      "0  dblp_query_dense_8_72             1\n"
     ]
    },
    {
     "data": {
      "text/html": [
       "<div>\n",
       "<style scoped>\n",
       "    .dataframe tbody tr th:only-of-type {\n",
       "        vertical-align: middle;\n",
       "    }\n",
       "\n",
       "    .dataframe tbody tr th {\n",
       "        vertical-align: top;\n",
       "    }\n",
       "\n",
       "    .dataframe thead th {\n",
       "        text-align: right;\n",
       "    }\n",
       "</style>\n",
       "<table border=\"1\" class=\"dataframe\">\n",
       "  <thead>\n",
       "    <tr style=\"text-align: right;\">\n",
       "      <th></th>\n",
       "      <th>query</th>\n",
       "      <th>TrueCard</th>\n",
       "    </tr>\n",
       "  </thead>\n",
       "  <tbody>\n",
       "    <tr>\n",
       "      <th>0</th>\n",
       "      <td>dblp_query_dense_8_1</td>\n",
       "      <td>32742232</td>\n",
       "    </tr>\n",
       "  </tbody>\n",
       "</table>\n",
       "</div>"
      ],
      "text/plain": [
       "                  query  TrueCard\n",
       "0  dblp_query_dense_8_1  32742232"
      ]
     },
     "execution_count": 4,
     "metadata": {},
     "output_type": "execute_result"
    }
   ],
   "source": [
    "path_results = \"../results/accuracy_cyclic\"\n",
    "\n",
    "df_duckdb = pd.read_csv(path_results + \"/duckdb_estimates.txt\", header=None)\n",
    "df_duckdb.columns =[\"query\", \"DuckDB_estimate\"]\n",
    "print(df_duckdb.head(1))\n",
    "\n",
    "df_lpbound = pd.read_csv(path_results + \"/dblp_undirected_8.log\", header=None)\n",
    "df_lpbound.columns =[\"query\", \"LpBoubd_estimate\"]\n",
    "print(df_lpbound.head(1))\n",
    "\n",
    "df_postgres = pd.read_csv(path_results + \"/postgres_estimates.txt\", header=None)\n",
    "df_postgres.columns =[\"query\", \"Postgres_estimate\"]\n",
    "print(df_postgres.head(1))\n",
    "\n",
    "df_dbx = pd.read_csv(path_results + \"/dbx_estimates.txt\", header=None)\n",
    "df_dbx.columns =[\"query\", \"DBX_estimate\"]\n",
    "print(df_dbx.head(1))\n",
    "\n",
    "df_true_card = pd.read_csv(path_results + \"/true_cards.csv\", header=None, sep=\"|\")\n",
    "df_true_card.columns = [\"query\", \"TrueCard\", \"runtime\", \"run\", \"n_splits\", \"splitting\", \"vo\"]\n",
    "df_true_card = df_true_card[[\"query\", \"TrueCard\"]]\n",
    "df_true_card.head(1)"
   ]
  },
  {
   "cell_type": "code",
   "execution_count": 5,
   "metadata": {},
   "outputs": [],
   "source": [
    "df = pd.merge(df_duckdb, df_lpbound, on=\"query\").merge(df_true_card, on=\"query\").merge(df_postgres, on=\"query\")\n",
    "df[\"DuckDB\"] = df[\"DuckDB_estimate\"] / df[\"TrueCard\"]\n",
    "df[\"LpBound\"] = df[\"LpBoubd_estimate\"] / df[\"TrueCard\"]\n",
    "df[\"Postgres\"] = df[\"Postgres_estimate\"] / df[\"TrueCard\"]\n",
    "df[\"DBX\"] = df_dbx[\"DBX_estimate\"] / df[\"TrueCard\"]"
   ]
  },
  {
   "cell_type": "code",
   "execution_count": 6,
   "metadata": {},
   "outputs": [],
   "source": [
    "# box plot of LpBound and DuckDB\n",
    "df_melted = df.melt(id_vars=[\"query\"], value_vars=[\"LpBound\", \"DuckDB\", \"Postgres\", \"DBX\"], var_name=\"Estimator\", value_name=\"Estimate Error\")\n",
    "df_melted[\"type\"] = df_melted[\"query\"].apply(lambda x: \"dense\" if x.find(\"dense\") != -1 else \"sparse\")\n",
    "df_melted = df_melted.merge(df_edges, on=\"query\")"
   ]
  },
  {
   "cell_type": "code",
   "execution_count": 7,
   "metadata": {},
   "outputs": [
    {
     "name": "stderr",
     "output_type": "stream",
     "text": [
      "/tmp/ipykernel_2761775/3143426592.py:9: MatplotlibDeprecationWarning: The get_cmap function was deprecated in Matplotlib 3.7 and will be removed in 3.11. Use ``matplotlib.colormaps[name]`` or ``matplotlib.colormaps.get_cmap()`` or ``pyplot.get_cmap()`` instead.\n",
      "  color_palette = plt.cm.get_cmap('Set2')(np.linspace(0, 1, 8))\n"
     ]
    },
    {
     "data": {
      "image/png": "[encoded data removed]",
      "text/plain": [
       "<Figure size 500x400 with 1 Axes>"
      ]
     },
     "metadata": {},
     "output_type": "display_data"
    }
   ],
   "source": [
    "import matplotlib.pyplot as plt\n",
    "import pandas as pd\n",
    "import numpy as np\n",
    "\n",
    "\n",
    "estimators = ['LpBound', 'DBX','DuckDB', 'Postgres',]\n",
    "edges = df_melted.edges.unique()\n",
    "edges.sort()\n",
    "color_palette = plt.cm.get_cmap('Set2')(np.linspace(0, 1, 8))\n",
    "\n",
    "# Color palette\n",
    "nature_palette = {\n",
    "    'blue': '#0072B2', 'orange': '#E69F00', 'green': '#009E73', 'red': '#D55E00',\n",
    "    'purple': '#CC79A7', 'yellow': '#F0E442', 'sky_blue': '#56B4E9', 'pink': '#FFB3BA'\n",
    "}\n",
    "\n",
    "ESTIMATOR_COLORS = {\n",
    "    'LpBound': color_palette[1], \n",
    "    'TrueCardinality': nature_palette['blue'],\n",
    "    'DuckDB': nature_palette['sky_blue'], 'DBX': nature_palette['pink'],\n",
    "    'Postgres': nature_palette['yellow'], 'FactorJoin': nature_palette['orange'],\n",
    "}\n",
    "\n",
    "# Set style\n",
    "plt.style.use('default')\n",
    "plt.rcParams['font.size'] = 10\n",
    "plt.rcParams['axes.labelsize'] = 10\n",
    "\n",
    "# Create figure and axis\n",
    "fig, ax = plt.subplots(figsize=(5, 4))\n",
    "\n",
    "# Prepare data for boxplot\n",
    "positions = []\n",
    "data_to_plot = []\n",
    "colors = []\n",
    "for i, edge in enumerate(edges):\n",
    "    edge_data = df_melted[df_melted['edges'] == edge]\n",
    "    for j, estimator in enumerate(estimators):\n",
    "        estimator_data = edge_data[edge_data['Estimator'] == estimator]['Estimate Error']\n",
    "        if not estimator_data.empty:\n",
    "            positions.append(i + j * 0.2)\n",
    "            data_to_plot.append(estimator_data)\n",
    "            colors.append(ESTIMATOR_COLORS[estimator])\n",
    "\n",
    "# Create boxplot\n",
    "bp = ax.boxplot(data_to_plot, positions=positions, widths=0.4, patch_artist=True, \n",
    "                showfliers=False, medianprops={'color': 'black'})\n",
    "\n",
    "# Color boxes and add hatches\n",
    "hatches = {estimator: '///' if estimator in ['Postgres', 'DuckDB', 'DBX'] else '' for estimator in estimators}\n",
    "for patch, color, estimator in zip(bp['boxes'], colors, estimators * len(edges)):\n",
    "    patch.set_facecolor(color)\n",
    "    patch.set_edgecolor('black')\n",
    "    patch.set_hatch(hatches[estimator])\n",
    "\n",
    "# Set y-axis to log scale\n",
    "ax.set_yscale('log')\n",
    "\n",
    "# Add horizontal line at y=1\n",
    "ax.axhline(y=1, color='r', linestyle='--', linewidth=1.5)\n",
    "\n",
    "# Set y-ticks\n",
    "ax.set_yticks([10**i for i in range(-8, 13, 2)])\n",
    "\n",
    "# Set x-ticks\n",
    "ax.set_xticks(range(len(edges)))\n",
    "ax.set_xticklabels(edges)\n",
    "\n",
    "# Add number of queries annotation\n",
    "counts = [200, 63, 38, 23, 17, 18, 11, 5, 3, 11, 2, 9]\n",
    "alternate_ = 0\n",
    "for i, count in enumerate(counts):\n",
    "    ax.text(i, 10**(-11 - alternate_), f\"{count} queries\", ha='center', va='top', size=7, rotation=0)\n",
    "    if alternate_ == 0:\n",
    "        alternate_ = 0.8\n",
    "    else:\n",
    "        alternate_ = 0\n",
    "\n",
    "# Set labels\n",
    "ax.set_xlabel(\"\\n\\nNumber of edge relations in query\", fontsize=10, fontweight='normal')\n",
    "ax.xaxis.set_label_coords(0.5, -0.06)  # Adjust these values to move the label up or down\n",
    "\n",
    "ax.set_ylabel(\"Estimation Error\", fontsize=10, fontweight='normal')\n",
    "ax.yaxis.grid(True, linestyle='--', which='major', color='lightgray', alpha=0.5)\n",
    "\n",
    "# Customize legend\n",
    "legend_elements = [plt.Rectangle((0, 0), 1, 1, facecolor=ESTIMATOR_COLORS[e], edgecolor='black', \n",
    "                                 label=e, hatch=hatches[e]) for e in estimators]\n",
    "ax.legend(handles=legend_elements, fontsize='11', loc='upper left')\n",
    "\n",
    "# Adjust layout\n",
    "plt.tight_layout()\n",
    "\n",
    "# export as eps in high resolution\n",
    "#plt.savefig(\"error_cardinality_estimation_dblp_8_undirected.eps\", format='eps', dpi=800)\n",
    "\n",
    "# Show plot\n",
    "plt.show()"
   ]
  },
  {
   "cell_type": "code",
   "execution_count": null,
   "metadata": {},
   "outputs": [],
   "source": []
  }
 ],
 "metadata": {
  "kernelspec": {
   "display_name": "Python 3",
   "language": "python",
   "name": "python3"
  },
  "language_info": {
   "codemirror_mode": {
    "name": "ipython",
    "version": 3
   },
   "file_extension": ".py",
   "mimetype": "text/x-python",
   "name": "python",
   "nbconvert_exporter": "python",
   "pygments_lexer": "ipython3",
   "version": "3.11.10"
  }
 },
 "nbformat": 4,
 "nbformat_minor": 2
}
